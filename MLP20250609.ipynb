{
 "cells": [
  {
   "cell_type": "code",
   "execution_count": 1,
   "id": "41b9fdc1",
   "metadata": {},
   "outputs": [],
   "source": [
    "import numpy as np\n",
    "from sklearn.preprocessing import MinMaxScaler\n",
    "\n",
    "q_avg=np.empty((0,1))\n",
    "Crate_idx=[2,5,6,7,8,9,12,13,14]\n",
    "tempdata1=np.empty((0,578))\n",
    "tempdata2=np.empty((0,578))\n",
    "tempdata=np.empty((0,578))\n",
    "\n",
    "for i in Crate_idx:\n",
    "    dataPath=f'./dataset{i}'\n",
    "    load_data=np.load(dataPath+'/cell.npz')\n",
    "    Temp=load_data['temperature']\n",
    "    q_lenth=len(Temp)-1\n",
    "    Qg=np.loadtxt(dataPath+'/q_avg.txt')[:q_lenth]\n",
    "    q_avg=np.concatenate((q_avg,Qg.reshape(-1,1)))\n",
    "    tempdata1=np.concatenate((tempdata1,Temp[0:-1]),axis=0)\n",
    "    tempdata2=np.concatenate((tempdata2,Temp[1:]),axis=0)\n",
    "    # print(q_lenth)\n",
    "    # tempdata=np.concatenate((tempdata,min_max_normalize_3d(Temp[0:-1])),axis=0)\n",
    "\n",
    "def minmax_normalize(data, min_val=None, max_val=None):\n",
    "    data = np.asarray(data)\n",
    "    if min_val is None:\n",
    "        min_val = np.min(data)\n",
    "    if max_val is None:\n",
    "        max_val = np.max(data)\n",
    "\n",
    "    if max_val == min_val:\n",
    "        return np.zeros_like(data)\n",
    "    \n",
    "    normalized_data = (data - min_val) / (max_val - min_val)\n",
    "    return normalized_data,[min_val, max_val]\n",
    "\n",
    "def minmax_denormalize(normalized_data, min_val, max_val):\n",
    "    normalized_data = np.asarray(normalized_data)\n",
    "    denormalized_data = normalized_data * (max_val - min_val) + min_val\n",
    "    return denormalized_data\n",
    "\n",
    "import matplotlib.pyplot as plt\n",
    "from scipy.interpolate import SmoothBivariateSpline\n",
    "\n",
    "Position=load_data['position']\n",
    "x=np.linspace(0,0.009,40)\n",
    "y=np.linspace(0,0.017997,40)\n",
    "yy,xx=np.meshgrid(y,x)\n",
    "\n",
    "ymatrix=[]\n",
    "xflatten=[]\n",
    "\n",
    "for i in range(len(tempdata2)):\n",
    "    f_interp=SmoothBivariateSpline(Position[0],Position[1],tempdata2[i])\n",
    "    ymatrix.append(f_interp.ev(yy,xx).transpose())\n",
    "    f_interp=SmoothBivariateSpline(Position[0],Position[1],tempdata1[i])\n",
    "    x4040=f_interp.ev(yy,xx).transpose()\n",
    "    xflatten.append(x4040.flatten()[np.linspace(0,1599,400,dtype=int)])\n",
    "\n"
   ]
  },
  {
   "cell_type": "code",
   "execution_count": 2,
   "id": "2641025e",
   "metadata": {},
   "outputs": [
    {
     "data": {
      "text/plain": [
       "((32568, 401), (32568, 2))"
      ]
     },
     "execution_count": 2,
     "metadata": {},
     "output_type": "execute_result"
    }
   ],
   "source": [
    "xflatten=np.array(xflatten).astype(np.float32)\n",
    "xscaler=MinMaxScaler(feature_range=(0,1))\n",
    "xflatten=np.concatenate((q_avg,xflatten),axis=1).astype(np.float32)\n",
    "xdata=xscaler.fit_transform(xflatten)\n",
    "\n",
    "ymatrix=np.array(ymatrix).astype(np.float32)\n",
    "ymin=np.min(ymatrix,axis=(1,2))\n",
    "ymax=np.max(ymatrix,axis=(1,2))\n",
    "ydata=np.concatenate((ymin.reshape(-1,1),ymax.reshape(-1,1)),axis=1)\n",
    "yscaler=MinMaxScaler(feature_range=(0,1))\n",
    "ydata=yscaler.fit_transform(ydata)\n",
    "\n",
    "xdata.shape,ydata.shape"
   ]
  },
  {
   "cell_type": "code",
   "execution_count": 3,
   "id": "88927c26",
   "metadata": {},
   "outputs": [],
   "source": [
    "import torch.nn as nn\n",
    "import torch.nn.functional as F\n",
    "import torch\n",
    "device=torch.device('cuda' if torch.cuda.is_available() else 'cpu')\n",
    "\n",
    "class MLP(nn.Module):\n",
    "    def __init__(self):\n",
    "        super(MLP,self).__init__()\n",
    "        self.fc1=nn.Linear(401,1024)\n",
    "        self.fc2=nn.Linear(1024,512)\n",
    "        self.fc3=nn.Linear(512,2)\n",
    "    def forward(self,x):\n",
    "        x=F.relu(self.fc1(x))\n",
    "        x=F.relu(self.fc2(x))\n",
    "        x=self.fc3(x)\n",
    "        return x\n",
    "\n",
    "from torch.utils.data import Dataset,DataLoader\n",
    "class MyDataset(Dataset):\n",
    "    def __init__(self,x,y):\n",
    "        self.x=x\n",
    "        self.y=y\n",
    "    def __len__(self):\n",
    "        return len(self.x)\n",
    "    def __getitem__(self, idx):\n",
    "        return self.x[idx],self.y[idx]\n",
    "\n",
    "dataset=MyDataset(xdata,ydata)\n",
    "dataloader=DataLoader(dataset,batch_size=64,shuffle=True)\n",
    "\n"
   ]
  },
  {
   "cell_type": "code",
   "execution_count": 4,
   "id": "c6cfe599",
   "metadata": {},
   "outputs": [
    {
     "name": "stderr",
     "output_type": "stream",
     "text": [
      "100%|██████████| 2000/2000 [1:05:22<00:00,  1.96s/it]\n"
     ]
    },
    {
     "data": {
      "text/plain": [
       "[<matplotlib.lines.Line2D at 0x22091362750>]"
      ]
     },
     "execution_count": 4,
     "metadata": {},
     "output_type": "execute_result"
    },
    {
     "data": {
      "image/png": "[encoded data removed]",
      "text/plain": [
       "<Figure size 640x480 with 1 Axes>"
      ]
     },
     "metadata": {},
     "output_type": "display_data"
    }
   ],
   "source": [
    "model=MLP().to(device)\n",
    "from tqdm import tqdm\n",
    "import os\n",
    "\n",
    "lrate=0.0001\n",
    "n_epochs=2000\n",
    "optim=torch.optim.Adam(model.parameters(),lr=lrate)\n",
    "criterion=nn.MSELoss()\n",
    "\n",
    "tlosslist=[]\n",
    "\n",
    "if os.path.isfile('MLP20250609'):\n",
    "    model.load_state_dict(torch.load('MLP20250609'))\n",
    "    print('load model')\n",
    "else:\n",
    "    for epoch in tqdm(range(n_epochs)):\n",
    "        model.train()\n",
    "        tlosses=0.0\n",
    "        # optim.param_groups[0]['lr']=lrate*(1-epoch/n_epochs)\n",
    "        for x,y in dataloader:\n",
    "            x=x.to(device)\n",
    "            y=y.to(device)\n",
    "            optim.zero_grad()\n",
    "            y_pred=model(x)\n",
    "            tloss=criterion(y_pred,y)\n",
    "            tloss.backward()\n",
    "            optim.step()\n",
    "            tlosses+=tloss.item()        \n",
    "        tlosslist.append(tlosses/len(dataloader))\n",
    "plt.plot(np.log(tlosslist))"
   ]
  },
  {
   "cell_type": "code",
   "execution_count": 5,
   "id": "e824854a",
   "metadata": {},
   "outputs": [],
   "source": [
    "torch.save(model.state_dict(),'MLP20250609')"
   ]
  },
  {
   "cell_type": "code",
   "execution_count": null,
   "id": "77e11819",
   "metadata": {},
   "outputs": [],
   "source": []
  },
  {
   "cell_type": "code",
   "execution_count": null,
   "id": "1b6f0cfc",
   "metadata": {},
   "outputs": [],
   "source": []
  }
 ],
 "metadata": {
  "kernelspec": {
   "display_name": "base",
   "language": "python",
   "name": "base"
  },
  "language_info": {
   "codemirror_mode": {
    "name": "ipython",
    "version": 3
   },
   "file_extension": ".py",
   "mimetype": "text/x-python",
   "name": "python",
   "nbconvert_exporter": "python",
   "pygments_lexer": "ipython3",
   "version": "3.12.3"
  }
 },
 "nbformat": 4,
 "nbformat_minor": 5
}
